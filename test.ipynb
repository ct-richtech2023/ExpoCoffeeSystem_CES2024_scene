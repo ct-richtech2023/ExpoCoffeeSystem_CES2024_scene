{
 "cells": [
  {
   "cell_type": "code",
   "execution_count": 6,
   "metadata": {
    "collapsed": true
   },
   "outputs": [
    {
     "name": "stdout",
     "output_type": "stream",
     "text": [
      "[SDK][ERROR][2024-01-18 10:53:04][base.py:348] - - API -> motion_enable -> code=3\n",
      "ControllerError had clean\n",
      "[set_state], xArm is ready to move\n",
      "[SDK][ERROR][2024-01-18 10:53:07][base.py:348] - - API -> motion_enable -> code=3\n",
      "[set_state], xArm is ready to move\n"
     ]
    },
    {
     "data": {
      "text/plain": "0"
     },
     "execution_count": 6,
     "metadata": {},
     "output_type": "execute_result"
    }
   ],
   "source": [
    "from xarm.wrapper import XArmAPI\n",
    "# right = XArmAPI('192.168.2.240')\n",
    "right.motion_enable()\n",
    "right.clean_error()\n",
    "right.clean_warn()\n",
    "right.set_collision_sensitivity(0)\n",
    "right.set_mode()\n",
    "right.set_state()\n",
    "\n",
    "# left = XArmAPI('192.168.2.226')\n",
    "left.motion_enable()\n",
    "left.clean_error()\n",
    "left.clean_warn()\n",
    "left.set_collision_sensitivity(0)\n",
    "left.set_mode()\n",
    "left.set_state()"
   ]
  },
  {
   "cell_type": "code",
   "execution_count": 7,
   "outputs": [
    {
     "data": {
      "text/plain": "0"
     },
     "execution_count": 7,
     "metadata": {},
     "output_type": "execute_result"
    }
   ],
   "source": [
    "left_pos11 = {'x': 698, 'y': 0, 'z': 210, 'roll': 0, 'pitch': 90, 'yaw': 0}\n",
    "left.set_position(**left_pos11, wait=True, speed=50, radius=50)"
   ],
   "metadata": {
    "collapsed": false
   }
  },
  {
   "cell_type": "code",
   "execution_count": 8,
   "outputs": [
    {
     "name": "stdout",
     "output_type": "stream",
     "text": [
      "[SDK][ERROR][2024-01-18 10:53:28][base.py:348] - - wait_move, xarm is stop, state=4\n"
     ]
    },
    {
     "data": {
      "text/plain": "-9"
     },
     "execution_count": 8,
     "metadata": {},
     "output_type": "execute_result"
    },
    {
     "name": "stdout",
     "output_type": "stream",
     "text": [
      "ControllerError, code: 21\n"
     ]
    }
   ],
   "source": [
    "# right.set_servo_angle(angle=right_zero_angle,speed=10,wait=False)\n",
    "left.set_servo_angle(angle=[164.1, 54.2, -92.2, -5.2, 35.4, -42.2],speed=30,wait=True)\n",
    "left.set_servo_angle(angle=[161.9, 85.4, -143, -29.6, 34.4, -210.4],speed=30,wait=True)\n",
    "\n",
    "left_pos11 = {'x': 698, 'y': 0, 'z': 210, 'roll': 0, 'pitch': 90, 'yaw': 0}\n",
    "left.set_position(**left_pos11, wait=True, speed=50, radius=50)\n",
    "\n",
    "# left.set_servo_angle(angle=[158.0, 73.4, -120.8, -37.4, 24.2, -22.2],speed=10,wait=True)"
   ],
   "metadata": {
    "collapsed": false
   }
  },
  {
   "cell_type": "code",
   "execution_count": 10,
   "outputs": [
    {
     "name": "stdout",
     "output_type": "stream",
     "text": [
      "0 a 1\n",
      "1 b 2\n"
     ]
    }
   ],
   "source": [
    "a_list = [(\"a\",1),(\"b\",2)]\n",
    "for i, (name , num) in enumerate(a_list):\n",
    "    print(i, name, num)\n"
   ],
   "metadata": {
    "collapsed": false
   }
  },
  {
   "cell_type": "code",
   "execution_count": null,
   "outputs": [],
   "source": [],
   "metadata": {
    "collapsed": false
   }
  }
 ],
 "metadata": {
  "kernelspec": {
   "display_name": "Python 3",
   "language": "python",
   "name": "python3"
  },
  "language_info": {
   "codemirror_mode": {
    "name": "ipython",
    "version": 2
   },
   "file_extension": ".py",
   "mimetype": "text/x-python",
   "name": "python",
   "nbconvert_exporter": "python",
   "pygments_lexer": "ipython2",
   "version": "2.7.6"
  }
 },
 "nbformat": 4,
 "nbformat_minor": 0
}
